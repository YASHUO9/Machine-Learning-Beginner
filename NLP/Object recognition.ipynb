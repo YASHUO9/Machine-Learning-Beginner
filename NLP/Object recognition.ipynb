{
 "cells": [
  {
   "cell_type": "markdown",
   "id": "81680189-2e1a-4446-a4ea-495b5b552e6b",
   "metadata": {},
   "source": [
    "## Near State-of-the-Art results at Object Recognition\n",
    "\n",
    "\n",
    "In this project, we will be deploying a convolutional neural network (CNN) for object recognition. More specifically, we will be using the All-CNN network published in the 2015 ICLR paper, \"Striving For Simplicity: The All Convolutional Net\".  This paper can be found at the following link:\n",
    "\n",
    "https://arxiv.org/pdf/1412.6806.pdf\n",
    "\n",
    "This convolutional neural network obtained state-of-the-art performance at object recognition on the CIFAR-10 image dataset in 2015. We will build this model using Keras, a high-level neural network application programming interface (API) that supports both Theano and Tensorflow backends. You can use either backend; however, I will be using Theano.  \n",
    "\n",
    "In this project, we will learn to:\n",
    "* Import datasets from Keras\n",
    "* Use one-hot vectors for categorical labels\n",
    "* Addlayers to a Keras model\n",
    "* Load pre-trained weights\n",
    "* Make predictions using a trained Keras model\n",
    "\n",
    "The dataset we will be using is the CIFAR-10 dataset, which consists of 60,000 32x32 color images in 10 classes, with 6000 images per class. There are 50000 training images and 10000 test images.\n",
    "\n",
    "### 1. Loading the Data\n",
    "\n",
    "We will import necessary packages, load the dataset, and plot some example images."
   ]
  },
  {
   "cell_type": "code",
   "execution_count": 6,
   "id": "86a30be0-f8c7-4fd5-bab9-0e091e6c2763",
   "metadata": {},
   "outputs": [],
   "source": [
    "from keras.datasets import cifar10\n",
    "\n",
    "# from keras.utils import np_utils\n",
    "from tensorflow.keras.utils import to_categorical\n",
    "# from keras.utils.np_utils import to_categorical\n",
    "from matplotlib import pyplot as plt \n",
    "import numpy as np\n",
    "from PIL import Image"
   ]
  },
  {
   "cell_type": "code",
   "execution_count": 8,
   "id": "30fade82-bb67-4433-8ffa-475046041a4e",
   "metadata": {},
   "outputs": [],
   "source": [
    "#Load the data\n",
    "(x_train,x_test),(y_train,y_test) = cifar10.load_data()\n"
   ]
  },
  {
   "cell_type": "code",
   "execution_count": 9,
   "id": "b45a4371-2fc2-4f7b-a03f-86e1b02f38b7",
   "metadata": {},
   "outputs": [
    {
     "ename": "NameError",
     "evalue": "name 'X_train' is not defined",
     "output_type": "error",
     "traceback": [
      "\u001b[1;31m---------------------------------------------------------------------------\u001b[0m",
      "\u001b[1;31mNameError\u001b[0m                                 Traceback (most recent call last)",
      "\u001b[1;32m~\\AppData\\Local\\Temp\\ipykernel_25124\\2268801788.py\u001b[0m in \u001b[0;36m<module>\u001b[1;34m\u001b[0m\n\u001b[0;32m      1\u001b[0m \u001b[1;31m#Lets determine the dataset characteristics\u001b[0m\u001b[1;33m\u001b[0m\u001b[1;33m\u001b[0m\u001b[0m\n\u001b[1;32m----> 2\u001b[1;33m \u001b[0mprint\u001b[0m\u001b[1;33m(\u001b[0m\u001b[1;34m'Training Images:{}'\u001b[0m\u001b[1;33m.\u001b[0m\u001b[0mformat\u001b[0m\u001b[1;33m(\u001b[0m\u001b[0mX_train\u001b[0m\u001b[1;33m.\u001b[0m\u001b[0mshaep\u001b[0m\u001b[1;33m)\u001b[0m\u001b[1;33m)\u001b[0m\u001b[1;33m\u001b[0m\u001b[1;33m\u001b[0m\u001b[0m\n\u001b[0m\u001b[0;32m      3\u001b[0m \u001b[0mprint\u001b[0m\u001b[1;33m(\u001b[0m\u001b[1;34m'Testing Image:{}'\u001b[0m\u001b[1;33m.\u001b[0m\u001b[0mformat\u001b[0m\u001b[1;33m(\u001b[0m\u001b[0mX_test\u001b[0m\u001b[1;33m.\u001b[0m\u001b[0mshape\u001b[0m\u001b[1;33m)\u001b[0m\u001b[1;33m)\u001b[0m\u001b[1;33m\u001b[0m\u001b[1;33m\u001b[0m\u001b[0m\n",
      "\u001b[1;31mNameError\u001b[0m: name 'X_train' is not defined"
     ]
    }
   ],
   "source": [
    "#Lets determine the dataset characteristics\n",
    "print('Training Images:{}'.format(X_train.shaep))\n",
    "print('Testing Image:{}'.format(X_test.shape))"
   ]
  },
  {
   "cell_type": "code",
   "execution_count": null,
   "id": "37fa481e-fc1d-4580-9412-84fd8af894a3",
   "metadata": {},
   "outputs": [],
   "source": [
    "#A single image\n",
    "print(X_train[0].shape)\n"
   ]
  },
  {
   "cell_type": "code",
   "execution_count": null,
   "id": "6db8ff12-3adf-4417-805c-91b7ef5e6760",
   "metadata": {},
   "outputs": [],
   "source": [
    "#create a grid of 3*3 images\n",
    "for i in range(0,9):\n",
    "    plt.subplotr"
   ]
  }
 ],
 "metadata": {
  "kernelspec": {
   "display_name": "Python 3 (ipykernel)",
   "language": "python",
   "name": "python3"
  },
  "language_info": {
   "codemirror_mode": {
    "name": "ipython",
    "version": 3
   },
   "file_extension": ".py",
   "mimetype": "text/x-python",
   "name": "python",
   "nbconvert_exporter": "python",
   "pygments_lexer": "ipython3",
   "version": "3.9.13"
  }
 },
 "nbformat": 4,
 "nbformat_minor": 5
}
